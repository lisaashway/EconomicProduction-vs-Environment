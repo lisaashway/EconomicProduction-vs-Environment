{
 "cells": [
  {
   "cell_type": "code",
   "execution_count": 1,
   "metadata": {},
   "outputs": [
    {
     "data": {
      "text/html": [
       "<div>\n",
       "<style scoped>\n",
       "    .dataframe tbody tr th:only-of-type {\n",
       "        vertical-align: middle;\n",
       "    }\n",
       "\n",
       "    .dataframe tbody tr th {\n",
       "        vertical-align: top;\n",
       "    }\n",
       "\n",
       "    .dataframe thead th {\n",
       "        text-align: right;\n",
       "    }\n",
       "</style>\n",
       "<table border=\"1\" class=\"dataframe\">\n",
       "  <thead>\n",
       "    <tr style=\"text-align: right;\">\n",
       "      <th></th>\n",
       "      <th>State</th>\n",
       "      <th>Year</th>\n",
       "      <th>Month</th>\n",
       "      <th>Value</th>\n",
       "      <th>1-Month % Change</th>\n",
       "    </tr>\n",
       "  </thead>\n",
       "  <tbody>\n",
       "    <tr>\n",
       "      <th>0</th>\n",
       "      <td>Alabama</td>\n",
       "      <td>2000</td>\n",
       "      <td>1</td>\n",
       "      <td>4.7</td>\n",
       "      <td>-2.1</td>\n",
       "    </tr>\n",
       "    <tr>\n",
       "      <th>1</th>\n",
       "      <td>Alabama</td>\n",
       "      <td>2000</td>\n",
       "      <td>2</td>\n",
       "      <td>4.7</td>\n",
       "      <td>0.0</td>\n",
       "    </tr>\n",
       "    <tr>\n",
       "      <th>2</th>\n",
       "      <td>Alabama</td>\n",
       "      <td>2000</td>\n",
       "      <td>3</td>\n",
       "      <td>4.6</td>\n",
       "      <td>-2.1</td>\n",
       "    </tr>\n",
       "    <tr>\n",
       "      <th>3</th>\n",
       "      <td>Alabama</td>\n",
       "      <td>2000</td>\n",
       "      <td>4</td>\n",
       "      <td>4.6</td>\n",
       "      <td>0.0</td>\n",
       "    </tr>\n",
       "    <tr>\n",
       "      <th>4</th>\n",
       "      <td>Alabama</td>\n",
       "      <td>2000</td>\n",
       "      <td>5</td>\n",
       "      <td>4.5</td>\n",
       "      <td>-2.2</td>\n",
       "    </tr>\n",
       "  </tbody>\n",
       "</table>\n",
       "</div>"
      ],
      "text/plain": [
       "     State  Year  Month  Value  1-Month % Change\n",
       "0  Alabama  2000      1    4.7              -2.1\n",
       "1  Alabama  2000      2    4.7               0.0\n",
       "2  Alabama  2000      3    4.6              -2.1\n",
       "3  Alabama  2000      4    4.6               0.0\n",
       "4  Alabama  2000      5    4.5              -2.2"
      ]
     },
     "execution_count": 1,
     "metadata": {},
     "output_type": "execute_result"
    }
   ],
   "source": [
    "import pandas as pd\n",
    "employ_df = pd.read_csv(\"stateemployment_monthly.csv\")\n",
    "employ_df.head()"
   ]
  },
  {
   "cell_type": "code",
   "execution_count": 3,
   "metadata": {},
   "outputs": [],
   "source": [
    "employ_df.to_html(\"employment.html\")"
   ]
  },
  {
   "cell_type": "code",
   "execution_count": 4,
   "metadata": {},
   "outputs": [
    {
     "data": {
      "text/plain": [
       "<bound method NDFrame.head of            State  Sample Year  Sample Month          NO2 Units  \\\n",
       "0        Arizona         2005             1  Parts per billion   \n",
       "1        Arizona         2005             2  Parts per billion   \n",
       "2        Arizona         2005             3  Parts per billion   \n",
       "3        Arizona         2005             4  Parts per billion   \n",
       "4        Arizona         2005             5  Parts per billion   \n",
       "...          ...          ...           ...                ...   \n",
       "4018    Virginia         2016             2  Parts per billion   \n",
       "4019  Washington         2016             1  Parts per billion   \n",
       "4020     Wyoming         2016             1  Parts per billion   \n",
       "4021     Wyoming         2016             2  Parts per billion   \n",
       "4022     Wyoming         2016             3  Parts per billion   \n",
       "\n",
       "      Average of NO2 Mean           O3 Units  Average of O3 Mean  \\\n",
       "0               22.674850  Parts per million            0.010018   \n",
       "1               19.542680  Parts per million            0.015479   \n",
       "2               19.674832  Parts per million            0.024243   \n",
       "3               21.509326  Parts per million            0.031231   \n",
       "4               19.719337  Parts per million            0.031362   \n",
       "...                   ...                ...                 ...   \n",
       "4018             8.902051  Parts per million            0.025058   \n",
       "4019            14.730538  Parts per million            0.015901   \n",
       "4020             4.359764  Parts per million            0.037673   \n",
       "4021             2.610661  Parts per million            0.040319   \n",
       "4022             3.247965  Parts per million            0.039541   \n",
       "\n",
       "              SO2 Units  Average of SO2 Mean           CO Units  \\\n",
       "0     Parts per billion             1.215276  Parts per million   \n",
       "1     Parts per billion             0.678611  Parts per million   \n",
       "2     Parts per billion             1.245270  Parts per million   \n",
       "3     Parts per billion             1.787622  Parts per million   \n",
       "4     Parts per billion             2.313748  Parts per million   \n",
       "...                 ...                  ...                ...   \n",
       "4018  Parts per billion             0.498947  Parts per million   \n",
       "4019  Parts per billion             0.202716  Parts per million   \n",
       "4020  Parts per billion            -0.054836  Parts per million   \n",
       "4021  Parts per billion            -0.065226  Parts per million   \n",
       "4022  Parts per billion             0.018929  Parts per million   \n",
       "\n",
       "      Average of CO Mean  \n",
       "0               0.661753  \n",
       "1               0.466213  \n",
       "2               0.523486  \n",
       "3               0.605336  \n",
       "4               0.565971  \n",
       "...                  ...  \n",
       "4018            0.282484  \n",
       "4019            0.274327  \n",
       "4020            0.101135  \n",
       "4021            0.084270  \n",
       "4022            0.091466  \n",
       "\n",
       "[4023 rows x 11 columns]>"
      ]
     },
     "execution_count": 4,
     "metadata": {},
     "output_type": "execute_result"
    }
   ],
   "source": [
    "pollution_df = pd.read_csv(\"pollution_2005_2016.csv\")\n",
    "pollution_df.head"
   ]
  },
  {
   "cell_type": "code",
   "execution_count": 5,
   "metadata": {},
   "outputs": [],
   "source": [
    "pollution_df.to_html(\"pollution.html\")"
   ]
  },
  {
   "cell_type": "code",
   "execution_count": null,
   "metadata": {},
   "outputs": [],
   "source": []
  }
 ],
 "metadata": {
  "kernelspec": {
   "display_name": "PythonData2",
   "language": "python",
   "name": "pythondata2"
  },
  "language_info": {
   "codemirror_mode": {
    "name": "ipython",
    "version": 3
   },
   "file_extension": ".py",
   "mimetype": "text/x-python",
   "name": "python",
   "nbconvert_exporter": "python",
   "pygments_lexer": "ipython3",
   "version": "3.6.10"
  }
 },
 "nbformat": 4,
 "nbformat_minor": 4
}
